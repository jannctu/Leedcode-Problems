{
 "cells": [
  {
   "cell_type": "code",
   "execution_count": 1,
   "id": "fc42025b",
   "metadata": {},
   "outputs": [],
   "source": [
    "def reverse(x):\n",
    "    neg = False\n",
    "    if x < 0: # check negative\n",
    "        neg = True\n",
    "        x = abs(x) #convert into positive \n",
    "        \n",
    "    str_x=str(x) # convert int to string\n",
    "    r_str_x=str_x[::-1] # reverse the string\n",
    "    int_x = int(r_str_x) # convert back to int\n",
    "    \n",
    "    if int_x > (2**31) or int_x < (-2**31): # handle big number\n",
    "        return 0\n",
    "\n",
    "    if neg: # if it is negative number\n",
    "        int_x = int_x * -1\n",
    "    \n",
    "    return int_x"
   ]
  },
  {
   "cell_type": "markdown",
   "id": "079314c0",
   "metadata": {},
   "source": [
    "   <b>Example 1:</b>\n",
    "   * Input: x = 123\n",
    "   * Output: 321"
   ]
  },
  {
   "cell_type": "code",
   "execution_count": 2,
   "id": "723a8ad0",
   "metadata": {},
   "outputs": [
    {
     "name": "stdout",
     "output_type": "stream",
     "text": [
      "321\n"
     ]
    }
   ],
   "source": [
    "x = 123 \n",
    "print(reverse(x))"
   ]
  },
  {
   "cell_type": "markdown",
   "id": "11cae23c",
   "metadata": {},
   "source": [
    "   <b>Example 2:</b>\n",
    "   * Input: x = -123\n",
    "   * Output: -321"
   ]
  },
  {
   "cell_type": "code",
   "execution_count": 4,
   "id": "54965545",
   "metadata": {},
   "outputs": [
    {
     "name": "stdout",
     "output_type": "stream",
     "text": [
      "-321\n"
     ]
    }
   ],
   "source": [
    "x = -123 \n",
    "print(reverse(x))"
   ]
  },
  {
   "cell_type": "markdown",
   "id": "42400a0c",
   "metadata": {},
   "source": [
    "   <b>Example 3:</b>\n",
    "   * Input: x = 120\n",
    "   * Output: 21"
   ]
  },
  {
   "cell_type": "code",
   "execution_count": 5,
   "id": "7b6b4ea9",
   "metadata": {},
   "outputs": [
    {
     "name": "stdout",
     "output_type": "stream",
     "text": [
      "21\n"
     ]
    }
   ],
   "source": [
    "x = 120 \n",
    "print(reverse(x))"
   ]
  },
  {
   "cell_type": "markdown",
   "id": "456b2807",
   "metadata": {},
   "source": [
    "   <b>Example 4:</b>\n",
    "   * Input: x = 0\n",
    "   * Output: 0"
   ]
  },
  {
   "cell_type": "code",
   "execution_count": 7,
   "id": "fc861c33",
   "metadata": {},
   "outputs": [
    {
     "name": "stdout",
     "output_type": "stream",
     "text": [
      "0\n"
     ]
    }
   ],
   "source": [
    "x = 0\n",
    "print(reverse(x))"
   ]
  },
  {
   "cell_type": "code",
   "execution_count": null,
   "id": "952c519a",
   "metadata": {},
   "outputs": [],
   "source": []
  }
 ],
 "metadata": {
  "kernelspec": {
   "display_name": "ml",
   "language": "python",
   "name": "ml"
  },
  "language_info": {
   "codemirror_mode": {
    "name": "ipython",
    "version": 3
   },
   "file_extension": ".py",
   "mimetype": "text/x-python",
   "name": "python",
   "nbconvert_exporter": "python",
   "pygments_lexer": "ipython3",
   "version": "3.8.8"
  }
 },
 "nbformat": 4,
 "nbformat_minor": 5
}
