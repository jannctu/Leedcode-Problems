{
 "cells": [
  {
   "cell_type": "code",
   "execution_count": 4,
   "id": "969df1fc",
   "metadata": {},
   "outputs": [],
   "source": [
    "def twoSum(nums, target):        \n",
    "    d = {}\n",
    "    for i in range(0, len(nums)): \n",
    "        sisa = target - nums[i]\n",
    "        \n",
    "        if nums[i] in d.keys():\n",
    "            return [i,d[nums[i]]]\n",
    "        else:\n",
    "            d[sisa] = i"
   ]
  },
  {
   "cell_type": "markdown",
   "id": "dc5ba0d7",
   "metadata": {},
   "source": [
    "- Input: nums = [2,7,11,15], target = 9\n",
    "- Output: [0,1]\n",
    "- Output: Because nums[0] + nums[1] == 9, we return [0, 1]."
   ]
  },
  {
   "cell_type": "code",
   "execution_count": 5,
   "id": "78b734bc",
   "metadata": {},
   "outputs": [
    {
     "name": "stdout",
     "output_type": "stream",
     "text": [
      "[1, 0]\n"
     ]
    }
   ],
   "source": [
    "nums = [2,7,11,15]\n",
    "target = 9\n",
    "print(twoSum(nums,target))"
   ]
  },
  {
   "cell_type": "markdown",
   "id": "8d5f0004",
   "metadata": {},
   "source": [
    "- Input: nums = [3,2,4], target = 6\n",
    "- Output: [1,2]"
   ]
  },
  {
   "cell_type": "code",
   "execution_count": 6,
   "id": "bc33a11a",
   "metadata": {},
   "outputs": [
    {
     "name": "stdout",
     "output_type": "stream",
     "text": [
      "[2, 1]\n"
     ]
    }
   ],
   "source": [
    "nums = [3,2,4]\n",
    "target = 6\n",
    "print(twoSum(nums,target))"
   ]
  },
  {
   "cell_type": "markdown",
   "id": "f0cf9a9d",
   "metadata": {},
   "source": [
    "- Input: nums = [3,3], target = 6\n",
    "- Output: [0,1]"
   ]
  },
  {
   "cell_type": "code",
   "execution_count": 8,
   "id": "45451b6f",
   "metadata": {},
   "outputs": [
    {
     "name": "stdout",
     "output_type": "stream",
     "text": [
      "[1, 0]\n"
     ]
    }
   ],
   "source": [
    "nums = [3,3]\n",
    "target = 6\n",
    "print(twoSum(nums,target))"
   ]
  },
  {
   "cell_type": "code",
   "execution_count": null,
   "id": "da7e6e52",
   "metadata": {},
   "outputs": [],
   "source": []
  }
 ],
 "metadata": {
  "kernelspec": {
   "display_name": "ml",
   "language": "python",
   "name": "ml"
  },
  "language_info": {
   "codemirror_mode": {
    "name": "ipython",
    "version": 3
   },
   "file_extension": ".py",
   "mimetype": "text/x-python",
   "name": "python",
   "nbconvert_exporter": "python",
   "pygments_lexer": "ipython3",
   "version": "3.8.8"
  }
 },
 "nbformat": 4,
 "nbformat_minor": 5
}
