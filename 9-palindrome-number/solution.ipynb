{
 "cells": [
  {
   "cell_type": "code",
   "execution_count": 1,
   "id": "929a0de8",
   "metadata": {},
   "outputs": [],
   "source": [
    "def reverse(x):\n",
    "    neg = False\n",
    "    if x < 0: # check negative\n",
    "        neg = True\n",
    "        x = abs(x) #convert into positive \n",
    "\n",
    "    str_x=str(x) # convert int to string\n",
    "    r_str_x=str_x[::-1] # reverse the string\n",
    "    int_x = int(r_str_x) # convert back to int\n",
    "\n",
    "    if neg: # if it is negative number\n",
    "        int_x = int_x * -1\n",
    "\n",
    "    return int_x\n",
    "\n",
    "def isPalindrome(x: int):\n",
    "    if x < 0:\n",
    "        return False\n",
    "\n",
    "    if x == reverse(x): \n",
    "        return True \n",
    "    return False"
   ]
  },
  {
   "cell_type": "markdown",
   "id": "aaea61c7",
   "metadata": {},
   "source": [
    "**Example 1:**\n",
    "* Input: x = 121\n",
    "* Output: true"
   ]
  },
  {
   "cell_type": "code",
   "execution_count": 2,
   "id": "c1da2096",
   "metadata": {},
   "outputs": [
    {
     "name": "stdout",
     "output_type": "stream",
     "text": [
      "True\n"
     ]
    }
   ],
   "source": [
    "x = 121\n",
    "print(isPalindrome(x))"
   ]
  },
  {
   "cell_type": "markdown",
   "id": "9e614b25",
   "metadata": {},
   "source": [
    "**Example 2:**\n",
    "* Input: x = -121\n",
    "* Output: false\n",
    "* Explanation: From left to right, it reads -121. From right to left, it becomes 121-. Therefore it is not a palindrome."
   ]
  },
  {
   "cell_type": "code",
   "execution_count": 3,
   "id": "9d30acd6",
   "metadata": {},
   "outputs": [
    {
     "name": "stdout",
     "output_type": "stream",
     "text": [
      "False\n"
     ]
    }
   ],
   "source": [
    "x = -121\n",
    "print(isPalindrome(x))"
   ]
  },
  {
   "cell_type": "markdown",
   "id": "1756a88e",
   "metadata": {},
   "source": [
    "**Example 3:**\n",
    "* Input: x = 10\n",
    "* Output: false\n",
    "* Explanation: Reads 01 from right to left. Therefore it is not a palindrome."
   ]
  },
  {
   "cell_type": "code",
   "execution_count": 4,
   "id": "b1d855b6",
   "metadata": {},
   "outputs": [
    {
     "name": "stdout",
     "output_type": "stream",
     "text": [
      "False\n"
     ]
    }
   ],
   "source": [
    "x = 10\n",
    "print(isPalindrome(x))"
   ]
  },
  {
   "cell_type": "markdown",
   "id": "fe324687",
   "metadata": {},
   "source": [
    "**Example 4:**\n",
    "* Input: x = -101\n",
    "* Output: false"
   ]
  },
  {
   "cell_type": "code",
   "execution_count": 6,
   "id": "dcc981de",
   "metadata": {},
   "outputs": [
    {
     "name": "stdout",
     "output_type": "stream",
     "text": [
      "False\n"
     ]
    }
   ],
   "source": [
    "x = -101\n",
    "print(isPalindrome(x))"
   ]
  },
  {
   "cell_type": "code",
   "execution_count": null,
   "id": "8bdc5509",
   "metadata": {},
   "outputs": [],
   "source": []
  }
 ],
 "metadata": {
  "kernelspec": {
   "display_name": "ml",
   "language": "python",
   "name": "ml"
  },
  "language_info": {
   "codemirror_mode": {
    "name": "ipython",
    "version": 3
   },
   "file_extension": ".py",
   "mimetype": "text/x-python",
   "name": "python",
   "nbconvert_exporter": "python",
   "pygments_lexer": "ipython3",
   "version": "3.8.8"
  }
 },
 "nbformat": 4,
 "nbformat_minor": 5
}
