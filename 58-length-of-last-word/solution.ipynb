{
 "cells": [
  {
   "cell_type": "code",
   "execution_count": 1,
   "id": "88964379",
   "metadata": {},
   "outputs": [],
   "source": [
    "def lengthOfLastWord(s):\n",
    "        return len(s.strip().split(' ')[-1])"
   ]
  },
  {
   "cell_type": "markdown",
   "id": "5be2693e",
   "metadata": {},
   "source": [
    "**Example 1:**\n",
    "\n",
    "```python\n",
    "Input: s = \"Hello World\"\n",
    "    \n",
    "Output: 5\n",
    "```"
   ]
  },
  {
   "cell_type": "code",
   "execution_count": 2,
   "id": "ff3d0e44",
   "metadata": {},
   "outputs": [
    {
     "name": "stdout",
     "output_type": "stream",
     "text": [
      "5\n"
     ]
    }
   ],
   "source": [
    "s = \"Hello World\"\n",
    "print(lengthOfLastWord(s))"
   ]
  },
  {
   "cell_type": "markdown",
   "id": "d56b3414",
   "metadata": {},
   "source": [
    "**Example 2:**\n",
    "\n",
    "```python\n",
    "Input: s = \" \"\n",
    "Output: 0\n",
    "```"
   ]
  },
  {
   "cell_type": "code",
   "execution_count": 3,
   "id": "23f4ca81",
   "metadata": {},
   "outputs": [
    {
     "name": "stdout",
     "output_type": "stream",
     "text": [
      "0\n"
     ]
    }
   ],
   "source": [
    "s = \" \"\n",
    "print(lengthOfLastWord(s))"
   ]
  },
  {
   "cell_type": "code",
   "execution_count": null,
   "id": "d9bec2c9",
   "metadata": {},
   "outputs": [],
   "source": []
  }
 ],
 "metadata": {
  "kernelspec": {
   "display_name": "ml",
   "language": "python",
   "name": "ml"
  },
  "language_info": {
   "codemirror_mode": {
    "name": "ipython",
    "version": 3
   },
   "file_extension": ".py",
   "mimetype": "text/x-python",
   "name": "python",
   "nbconvert_exporter": "python",
   "pygments_lexer": "ipython3",
   "version": "3.8.8"
  }
 },
 "nbformat": 4,
 "nbformat_minor": 5
}
