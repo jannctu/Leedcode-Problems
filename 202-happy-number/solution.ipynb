{
 "cells": [
  {
   "cell_type": "code",
   "execution_count": 1,
   "id": "d04b633e",
   "metadata": {},
   "outputs": [],
   "source": [
    "def isHappy(n):\n",
    "    checked = set() # create set to store the number that we have checked\n",
    "    \n",
    "    while 1:\n",
    "        s = str(n) # convert number into string\n",
    "        \n",
    "        nn = 0 # temporary variable to store the number sum. \n",
    "        for i in range(len(s)): \n",
    "            nn += int(s[i]) ** 2 # take square and sum\n",
    "        \n",
    "        n = nn \n",
    "        if n == 1: # return True if n=1\n",
    "            return True\n",
    "        \n",
    "        if n in checked: # return False if the summation back to number that we have checked. \n",
    "            return False\n",
    "        else:\n",
    "            checked.add(n) # otherwise put number into Set"
   ]
  },
  {
   "cell_type": "markdown",
   "id": "401c2f5d",
   "metadata": {},
   "source": [
    "**Example 1:**\n",
    "\n",
    "Input: n = 19\n",
    "\n",
    "Output: true\n",
    "\n",
    "Explanation:\n",
    "\n",
    "12 + 92 = 82\n",
    "\n",
    "82 + 22 = 68\n",
    "\n",
    "62 + 82 = 100\n",
    "\n",
    "12 + 02 + 02 = 1\n"
   ]
  },
  {
   "cell_type": "code",
   "execution_count": 2,
   "id": "46e0d466",
   "metadata": {},
   "outputs": [
    {
     "name": "stdout",
     "output_type": "stream",
     "text": [
      "True\n"
     ]
    }
   ],
   "source": [
    "n = 19 \n",
    "print(isHappy(n))"
   ]
  },
  {
   "cell_type": "markdown",
   "id": "051f5704",
   "metadata": {},
   "source": [
    "**Example 2:**\n",
    "\n",
    "Input: n = 2\n",
    "    \n",
    "Output: false\n",
    "\n"
   ]
  },
  {
   "cell_type": "code",
   "execution_count": 4,
   "id": "0dd88294",
   "metadata": {},
   "outputs": [
    {
     "name": "stdout",
     "output_type": "stream",
     "text": [
      "False\n"
     ]
    }
   ],
   "source": [
    "n=2\n",
    "print(isHappy(n))"
   ]
  },
  {
   "cell_type": "code",
   "execution_count": null,
   "id": "167e473e",
   "metadata": {},
   "outputs": [],
   "source": []
  }
 ],
 "metadata": {
  "kernelspec": {
   "display_name": "ml",
   "language": "python",
   "name": "ml"
  },
  "language_info": {
   "codemirror_mode": {
    "name": "ipython",
    "version": 3
   },
   "file_extension": ".py",
   "mimetype": "text/x-python",
   "name": "python",
   "nbconvert_exporter": "python",
   "pygments_lexer": "ipython3",
   "version": "3.8.8"
  }
 },
 "nbformat": 4,
 "nbformat_minor": 5
}
